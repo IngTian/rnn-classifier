{
  "cells": [
    {
      "cell_type": "code",
      "execution_count": 1,
      "metadata": {
        "colab": {
          "base_uri": "https://localhost:8080/"
        },
        "id": "LpDtdKLTZ3Wp",
        "outputId": "b890c142-a18b-4075-ffdb-748b947ff038"
      },
      "outputs": [
        {
          "output_type": "stream",
          "name": "stdout",
          "text": [
            "Cloning into 'rnn-classifier'...\n",
            "remote: Enumerating objects: 139, done.\u001b[K\n",
            "remote: Counting objects: 100% (85/85), done.\u001b[K\n",
            "remote: Compressing objects: 100% (57/57), done.\u001b[K\n",
            "remote: Total 139 (delta 44), reused 65 (delta 26), pack-reused 54\u001b[K\n",
            "Receiving objects: 100% (139/139), 39.53 KiB | 1.88 MiB/s, done.\n",
            "Resolving deltas: 100% (74/74), done.\n",
            "Collecting simple_chalk\n",
            "  Downloading simple_chalk-0.1.0.tar.gz (13 kB)\n",
            "Building wheels for collected packages: simple-chalk\n",
            "  Building wheel for simple-chalk (setup.py) ... \u001b[?25l\u001b[?25hdone\n",
            "  Created wheel for simple-chalk: filename=simple_chalk-0.1.0-py3-none-any.whl size=22163 sha256=94355dc746734e32ce7fec63056d6c1f9fa2f1f3c6b96e77620391d3a095e204\n",
            "  Stored in directory: /root/.cache/pip/wheels/24/e2/84/d54838032016039eef79df1137b91defaa6db068d825dfcdcd\n",
            "Successfully built simple-chalk\n",
            "Installing collected packages: simple-chalk\n",
            "Successfully installed simple-chalk-0.1.0\n",
            "/content/rnn-classifier\n"
          ]
        }
      ],
      "source": [
        "!git clone --branch feat-study https://github.com/IngTian/rnn-classifier.git\n",
        "!pip install simple_chalk\n",
        "%cd rnn-classifier"
      ]
    },
    {
      "cell_type": "code",
      "execution_count": 2,
      "metadata": {
        "colab": {
          "base_uri": "https://localhost:8080/"
        },
        "id": "dkXK1yepZ6Hm",
        "outputId": "5792a809-fbd6-4e07-b780-b503add57f97"
      },
      "outputs": [
        {
          "output_type": "stream",
          "name": "stdout",
          "text": [
            "\u001b[1m\u001b[92m[Model Hyper-parameters]:\u001b[0m\u001b[0m Namespace(batch_size=50, bi=True, clip=0.25, cuda=True, data='SST', drop=0.6, emsize=500, epochs=50, fine=False, hidden=1000, lr=0.0003, model='LSTM', nlayers=2, output_path='report')\n",
            "downloading trainDevTestTrees_PTB.zip\n",
            "100% 790k/790k [00:00<00:00, 2.66MB/s]\n",
            "extracting\n",
            "\u001b[1;93mMEAN SENTENCE LENGTH(# of words):\u001b[0m 19.30\n",
            "\u001b[1m\u001b[93m[Corpus]:\u001b[0m\u001b[0m train: 6920, test: 1821, vocab: 17575, labels: 2\n",
            "Total param size: 44823502\n",
            "\u001b[1mTRAINING   --->\u001b[0m \u001b[1;92m[EPOCH-1]\u001b[0m \u001b[1mTIME ELAPSED:\u001b[0m 14.28s \u001b[1;91mLOSS:\u001b[0m 0.65398 \u001b[1;93mACC:\u001b[0m 59.73\n",
            "\u001b[1mVALIDATION --->\u001b[0m \u001b[1;92m[EPOCH-1]\u001b[0m \u001b[1mTIME ELAPSED:\u001b[0m 0.36s \u001b[1;91mLOSS:\u001b[0m 0.49948 \u001b[1;93mACC:\u001b[0m 75.92\n",
            "\u001b[1mTRAINING   --->\u001b[0m \u001b[1;92m[EPOCH-2]\u001b[0m \u001b[1mTIME ELAPSED:\u001b[0m 14.14s \u001b[1;91mLOSS:\u001b[0m 0.34632 \u001b[1;93mACC:\u001b[0m 85.20\n",
            "\u001b[1mVALIDATION --->\u001b[0m \u001b[1;92m[EPOCH-2]\u001b[0m \u001b[1mTIME ELAPSED:\u001b[0m 0.36s \u001b[1;91mLOSS:\u001b[0m 0.51721 \u001b[1;93mACC:\u001b[0m 77.64\n",
            "Traceback (most recent call last):\n",
            "  File \"main.py\", line 145, in <module>\n",
            "    training_result = train_an_epoch(model, train_iter, training_optimizer, criterion, args, epoch)\n",
            "  File \"/content/rnn-classifier/train.py\", line 36, in train_an_epoch\n",
            "    for batch_num, batch in enumerate(data):\n",
            "  File \"/usr/local/lib/python3.7/dist-packages/torchtext/legacy/data/iterator.py\", line 160, in __iter__\n",
            "    yield Batch(minibatch, self.dataset, self.device)\n",
            "  File \"/usr/local/lib/python3.7/dist-packages/torchtext/legacy/data/batch.py\", line 34, in __init__\n",
            "    setattr(self, name, field.process(batch, device=device))\n",
            "  File \"/usr/local/lib/python3.7/dist-packages/torchtext/legacy/data/field.py\", line 231, in process\n",
            "    tensor = self.numericalize(padded, device=device)\n",
            "  File \"/usr/local/lib/python3.7/dist-packages/torchtext/legacy/data/field.py\", line 330, in numericalize\n",
            "    arr = [[self.vocab.stoi[x] for x in ex] for ex in arr]\n",
            "  File \"/usr/local/lib/python3.7/dist-packages/torchtext/legacy/data/field.py\", line 330, in <listcomp>\n",
            "    arr = [[self.vocab.stoi[x] for x in ex] for ex in arr]\n",
            "  File \"/usr/local/lib/python3.7/dist-packages/torchtext/legacy/data/field.py\", line 330, in <listcomp>\n",
            "    arr = [[self.vocab.stoi[x] for x in ex] for ex in arr]\n",
            "KeyboardInterrupt\n"
          ]
        }
      ],
      "source": [
        "!python main.py --data SST --emsize 500 --hidden 1000 --nlayers 2 --lr 0.0003 --clip 0.25 --epochs 50 --drop 0.6 --batch_size 50 --model LSTM --bi"
      ]
    },
    {
      "cell_type": "code",
      "source": [
        "!rm -rf report\n"
      ],
      "metadata": {
        "id": "-XomxbVn3HTK"
      },
      "execution_count": 31,
      "outputs": []
    },
    {
      "cell_type": "code",
      "execution_count": 32,
      "metadata": {
        "id": "QXWOT3icaAZO",
        "colab": {
          "base_uri": "https://localhost:8080/"
        },
        "outputId": "9634a8c6-f73f-4518-f674-50d707d56b60"
      },
      "outputs": [
        {
          "output_type": "stream",
          "name": "stdout",
          "text": [
            "\u001b[1m\u001b[92m[Model Hyper-parameters]:\u001b[0m\u001b[0m Namespace(batch_size=50, bi=True, clip=0.25, cuda=True, data='SST', drop=0.6, emsize=300, epochs=50, fine=False, hidden=600, lr=0.0003, model='LSTM', nlayers=10, output_path='report')\n",
            "\u001b[1m\u001b[93m[Corpus]:\u001b[0m\u001b[0m train: 6920, test: 1821, vocab: 17575, labels: 2\n",
            "Total param size: 87450902\n",
            "\u001b[1mTRAINING   --->\u001b[0m \u001b[1;92m[EPOCH-1]\u001b[0m \u001b[1mTIME ELAPSED:\u001b[0m 42.55s \u001b[1;91mLOSS:\u001b[0m 0.69329 \u001b[1;93mACC:\u001b[0m 51.39\n",
            "\u001b[1mVALIDATION --->\u001b[0m \u001b[1;92m[EPOCH-1]\u001b[0m \u001b[1mTIME ELAPSED:\u001b[0m 0.69s \u001b[1;91mLOSS:\u001b[0m 0.69356 \u001b[1;93mACC:\u001b[0m 50.92\n",
            "\u001b[1mTRAINING   --->\u001b[0m \u001b[1;92m[EPOCH-2]\u001b[0m \u001b[1mTIME ELAPSED:\u001b[0m 42.35s \u001b[1;91mLOSS:\u001b[0m 0.69255 \u001b[1;93mACC:\u001b[0m 52.17\n",
            "\u001b[1mVALIDATION --->\u001b[0m \u001b[1;92m[EPOCH-2]\u001b[0m \u001b[1mTIME ELAPSED:\u001b[0m 0.69s \u001b[1;91mLOSS:\u001b[0m 0.69311 \u001b[1;93mACC:\u001b[0m 50.92\n",
            "\u001b[1mTRAINING   --->\u001b[0m \u001b[1;92m[EPOCH-3]\u001b[0m \u001b[1mTIME ELAPSED:\u001b[0m 42.66s \u001b[1;91mLOSS:\u001b[0m 0.69926 \u001b[1;93mACC:\u001b[0m 53.60\n",
            "\u001b[1mVALIDATION --->\u001b[0m \u001b[1;92m[EPOCH-3]\u001b[0m \u001b[1mTIME ELAPSED:\u001b[0m 0.68s \u001b[1;91mLOSS:\u001b[0m 0.70172 \u001b[1;93mACC:\u001b[0m 49.08\n",
            "\u001b[1mTRAINING   --->\u001b[0m \u001b[1;92m[EPOCH-4]\u001b[0m \u001b[1mTIME ELAPSED:\u001b[0m 42.17s \u001b[1;91mLOSS:\u001b[0m 0.69371 \u001b[1;93mACC:\u001b[0m 51.62\n",
            "\u001b[1mVALIDATION --->\u001b[0m \u001b[1;92m[EPOCH-4]\u001b[0m \u001b[1mTIME ELAPSED:\u001b[0m 0.68s \u001b[1;91mLOSS:\u001b[0m 0.71197 \u001b[1;93mACC:\u001b[0m 50.92\n",
            "\u001b[1mTRAINING   --->\u001b[0m \u001b[1;92m[EPOCH-5]\u001b[0m \u001b[1mTIME ELAPSED:\u001b[0m 42.21s \u001b[1;91mLOSS:\u001b[0m 0.69310 \u001b[1;93mACC:\u001b[0m 51.53\n",
            "\u001b[1mVALIDATION --->\u001b[0m \u001b[1;92m[EPOCH-5]\u001b[0m \u001b[1mTIME ELAPSED:\u001b[0m 0.69s \u001b[1;91mLOSS:\u001b[0m 0.69587 \u001b[1;93mACC:\u001b[0m 50.92\n",
            "\u001b[1mTRAINING   --->\u001b[0m \u001b[1;92m[EPOCH-6]\u001b[0m \u001b[1mTIME ELAPSED:\u001b[0m 42.70s \u001b[1;91mLOSS:\u001b[0m 0.69275 \u001b[1;93mACC:\u001b[0m 52.01\n",
            "\u001b[1mVALIDATION --->\u001b[0m \u001b[1;92m[EPOCH-6]\u001b[0m \u001b[1mTIME ELAPSED:\u001b[0m 0.68s \u001b[1;91mLOSS:\u001b[0m 0.69425 \u001b[1;93mACC:\u001b[0m 50.92\n",
            "\u001b[1mTRAINING   --->\u001b[0m \u001b[1;92m[EPOCH-7]\u001b[0m \u001b[1mTIME ELAPSED:\u001b[0m 42.64s \u001b[1;91mLOSS:\u001b[0m 0.69263 \u001b[1;93mACC:\u001b[0m 52.01\n",
            "\u001b[1mVALIDATION --->\u001b[0m \u001b[1;92m[EPOCH-7]\u001b[0m \u001b[1mTIME ELAPSED:\u001b[0m 0.69s \u001b[1;91mLOSS:\u001b[0m 0.69338 \u001b[1;93mACC:\u001b[0m 50.92\n",
            "\u001b[1mTRAINING   --->\u001b[0m \u001b[1;92m[EPOCH-8]\u001b[0m \u001b[1mTIME ELAPSED:\u001b[0m 42.64s \u001b[1;91mLOSS:\u001b[0m 0.69263 \u001b[1;93mACC:\u001b[0m 52.15\n",
            "\u001b[1mVALIDATION --->\u001b[0m \u001b[1;92m[EPOCH-8]\u001b[0m \u001b[1mTIME ELAPSED:\u001b[0m 0.68s \u001b[1;91mLOSS:\u001b[0m 0.69349 \u001b[1;93mACC:\u001b[0m 50.92\n",
            "\u001b[1mTRAINING   --->\u001b[0m \u001b[1;92m[EPOCH-9]\u001b[0m \u001b[1mTIME ELAPSED:\u001b[0m 42.41s \u001b[1;91mLOSS:\u001b[0m 0.69253 \u001b[1;93mACC:\u001b[0m 52.17\n",
            "\u001b[1mVALIDATION --->\u001b[0m \u001b[1;92m[EPOCH-9]\u001b[0m \u001b[1mTIME ELAPSED:\u001b[0m 0.68s \u001b[1;91mLOSS:\u001b[0m 0.69304 \u001b[1;93mACC:\u001b[0m 50.92\n",
            "\u001b[1mTRAINING   --->\u001b[0m \u001b[1;92m[EPOCH-10]\u001b[0m \u001b[1mTIME ELAPSED:\u001b[0m 42.36s \u001b[1;91mLOSS:\u001b[0m 0.69264 \u001b[1;93mACC:\u001b[0m 52.17\n",
            "\u001b[1mVALIDATION --->\u001b[0m \u001b[1;92m[EPOCH-10]\u001b[0m \u001b[1mTIME ELAPSED:\u001b[0m 0.68s \u001b[1;91mLOSS:\u001b[0m 0.69343 \u001b[1;93mACC:\u001b[0m 50.92\n",
            "\u001b[1mTRAINING   --->\u001b[0m \u001b[1;92m[EPOCH-11]\u001b[0m \u001b[1mTIME ELAPSED:\u001b[0m 42.75s \u001b[1;91mLOSS:\u001b[0m 0.69242 \u001b[1;93mACC:\u001b[0m 52.17\n",
            "\u001b[1mVALIDATION --->\u001b[0m \u001b[1;92m[EPOCH-11]\u001b[0m \u001b[1mTIME ELAPSED:\u001b[0m 0.68s \u001b[1;91mLOSS:\u001b[0m 0.69365 \u001b[1;93mACC:\u001b[0m 50.92\n",
            "\u001b[1mTRAINING   --->\u001b[0m \u001b[1;92m[EPOCH-12]\u001b[0m \u001b[1mTIME ELAPSED:\u001b[0m 42.24s \u001b[1;91mLOSS:\u001b[0m 0.69237 \u001b[1;93mACC:\u001b[0m 52.17\n",
            "\u001b[1mVALIDATION --->\u001b[0m \u001b[1;92m[EPOCH-12]\u001b[0m \u001b[1mTIME ELAPSED:\u001b[0m 0.68s \u001b[1;91mLOSS:\u001b[0m 0.69456 \u001b[1;93mACC:\u001b[0m 50.92\n",
            "\u001b[1mTRAINING   --->\u001b[0m \u001b[1;92m[EPOCH-13]\u001b[0m \u001b[1mTIME ELAPSED:\u001b[0m 42.60s \u001b[1;91mLOSS:\u001b[0m 0.69234 \u001b[1;93mACC:\u001b[0m 52.17\n",
            "\u001b[1mVALIDATION --->\u001b[0m \u001b[1;92m[EPOCH-13]\u001b[0m \u001b[1mTIME ELAPSED:\u001b[0m 0.68s \u001b[1;91mLOSS:\u001b[0m 0.69322 \u001b[1;93mACC:\u001b[0m 50.92\n",
            "\u001b[1mTRAINING   --->\u001b[0m \u001b[1;92m[EPOCH-14]\u001b[0m \u001b[1mTIME ELAPSED:\u001b[0m 42.38s \u001b[1;91mLOSS:\u001b[0m 0.69248 \u001b[1;93mACC:\u001b[0m 52.17\n",
            "\u001b[1mVALIDATION --->\u001b[0m \u001b[1;92m[EPOCH-14]\u001b[0m \u001b[1mTIME ELAPSED:\u001b[0m 0.68s \u001b[1;91mLOSS:\u001b[0m 0.69314 \u001b[1;93mACC:\u001b[0m 50.92\n",
            "\u001b[1mTRAINING   --->\u001b[0m \u001b[1;92m[EPOCH-15]\u001b[0m \u001b[1mTIME ELAPSED:\u001b[0m 42.50s \u001b[1;91mLOSS:\u001b[0m 0.69246 \u001b[1;93mACC:\u001b[0m 52.17\n",
            "\u001b[1mVALIDATION --->\u001b[0m \u001b[1;92m[EPOCH-15]\u001b[0m \u001b[1mTIME ELAPSED:\u001b[0m 0.69s \u001b[1;91mLOSS:\u001b[0m 0.69407 \u001b[1;93mACC:\u001b[0m 50.92\n",
            "\u001b[1mTRAINING   --->\u001b[0m \u001b[1;92m[EPOCH-16]\u001b[0m \u001b[1mTIME ELAPSED:\u001b[0m 42.43s \u001b[1;91mLOSS:\u001b[0m 0.69231 \u001b[1;93mACC:\u001b[0m 52.17\n",
            "\u001b[1mVALIDATION --->\u001b[0m \u001b[1;92m[EPOCH-16]\u001b[0m \u001b[1mTIME ELAPSED:\u001b[0m 0.68s \u001b[1;91mLOSS:\u001b[0m 0.69352 \u001b[1;93mACC:\u001b[0m 50.92\n",
            "\u001b[1mTRAINING   --->\u001b[0m \u001b[1;92m[EPOCH-17]\u001b[0m \u001b[1mTIME ELAPSED:\u001b[0m 42.66s \u001b[1;91mLOSS:\u001b[0m 0.69240 \u001b[1;93mACC:\u001b[0m 52.17\n",
            "\u001b[1mVALIDATION --->\u001b[0m \u001b[1;92m[EPOCH-17]\u001b[0m \u001b[1mTIME ELAPSED:\u001b[0m 0.68s \u001b[1;91mLOSS:\u001b[0m 0.69330 \u001b[1;93mACC:\u001b[0m 50.92\n",
            "\u001b[1mTRAINING   --->\u001b[0m \u001b[1;92m[EPOCH-18]\u001b[0m \u001b[1mTIME ELAPSED:\u001b[0m 41.98s \u001b[1;91mLOSS:\u001b[0m 0.69239 \u001b[1;93mACC:\u001b[0m 52.17\n",
            "\u001b[1mVALIDATION --->\u001b[0m \u001b[1;92m[EPOCH-18]\u001b[0m \u001b[1mTIME ELAPSED:\u001b[0m 0.68s \u001b[1;91mLOSS:\u001b[0m 0.69328 \u001b[1;93mACC:\u001b[0m 50.92\n",
            "\u001b[1mTRAINING   --->\u001b[0m \u001b[1;92m[EPOCH-19]\u001b[0m \u001b[1mTIME ELAPSED:\u001b[0m 42.31s \u001b[1;91mLOSS:\u001b[0m 0.69222 \u001b[1;93mACC:\u001b[0m 52.17\n",
            "\u001b[1mVALIDATION --->\u001b[0m \u001b[1;92m[EPOCH-19]\u001b[0m \u001b[1mTIME ELAPSED:\u001b[0m 0.68s \u001b[1;91mLOSS:\u001b[0m 0.69366 \u001b[1;93mACC:\u001b[0m 50.92\n",
            "\u001b[1mTRAINING   --->\u001b[0m \u001b[1;92m[EPOCH-20]\u001b[0m \u001b[1mTIME ELAPSED:\u001b[0m 42.16s \u001b[1;91mLOSS:\u001b[0m 0.69224 \u001b[1;93mACC:\u001b[0m 52.17\n",
            "\u001b[1mVALIDATION --->\u001b[0m \u001b[1;92m[EPOCH-20]\u001b[0m \u001b[1mTIME ELAPSED:\u001b[0m 0.68s \u001b[1;91mLOSS:\u001b[0m 0.69353 \u001b[1;93mACC:\u001b[0m 50.92\n",
            "\u001b[1mTRAINING   --->\u001b[0m \u001b[1;92m[EPOCH-21]\u001b[0m \u001b[1mTIME ELAPSED:\u001b[0m 42.62s \u001b[1;91mLOSS:\u001b[0m 0.69233 \u001b[1;93mACC:\u001b[0m 52.17\n",
            "\u001b[1mVALIDATION --->\u001b[0m \u001b[1;92m[EPOCH-21]\u001b[0m \u001b[1mTIME ELAPSED:\u001b[0m 0.68s \u001b[1;91mLOSS:\u001b[0m 0.69344 \u001b[1;93mACC:\u001b[0m 50.92\n",
            "\u001b[1mTRAINING   --->\u001b[0m \u001b[1;92m[EPOCH-22]\u001b[0m \u001b[1mTIME ELAPSED:\u001b[0m 42.22s \u001b[1;91mLOSS:\u001b[0m 0.69233 \u001b[1;93mACC:\u001b[0m 52.17\n",
            "\u001b[1mVALIDATION --->\u001b[0m \u001b[1;92m[EPOCH-22]\u001b[0m \u001b[1mTIME ELAPSED:\u001b[0m 0.69s \u001b[1;91mLOSS:\u001b[0m 0.69342 \u001b[1;93mACC:\u001b[0m 50.92\n",
            "\u001b[1mTRAINING   --->\u001b[0m \u001b[1;92m[EPOCH-23]\u001b[0m \u001b[1mTIME ELAPSED:\u001b[0m 42.67s \u001b[1;91mLOSS:\u001b[0m 0.69226 \u001b[1;93mACC:\u001b[0m 52.17\n",
            "\u001b[1mVALIDATION --->\u001b[0m \u001b[1;92m[EPOCH-23]\u001b[0m \u001b[1mTIME ELAPSED:\u001b[0m 0.69s \u001b[1;91mLOSS:\u001b[0m 0.69377 \u001b[1;93mACC:\u001b[0m 50.92\n",
            "\u001b[1mTRAINING   --->\u001b[0m \u001b[1;92m[EPOCH-24]\u001b[0m \u001b[1mTIME ELAPSED:\u001b[0m 42.51s \u001b[1;91mLOSS:\u001b[0m 0.69229 \u001b[1;93mACC:\u001b[0m 52.17\n",
            "\u001b[1mVALIDATION --->\u001b[0m \u001b[1;92m[EPOCH-24]\u001b[0m \u001b[1mTIME ELAPSED:\u001b[0m 0.68s \u001b[1;91mLOSS:\u001b[0m 0.69347 \u001b[1;93mACC:\u001b[0m 50.92\n",
            "\u001b[1mTRAINING   --->\u001b[0m \u001b[1;92m[EPOCH-25]\u001b[0m \u001b[1mTIME ELAPSED:\u001b[0m 42.31s \u001b[1;91mLOSS:\u001b[0m 0.69245 \u001b[1;93mACC:\u001b[0m 52.17\n",
            "\u001b[1mVALIDATION --->\u001b[0m \u001b[1;92m[EPOCH-25]\u001b[0m \u001b[1mTIME ELAPSED:\u001b[0m 0.68s \u001b[1;91mLOSS:\u001b[0m 0.69396 \u001b[1;93mACC:\u001b[0m 50.92\n",
            "\u001b[1mTRAINING   --->\u001b[0m \u001b[1;92m[EPOCH-26]\u001b[0m \u001b[1mTIME ELAPSED:\u001b[0m 42.41s \u001b[1;91mLOSS:\u001b[0m 0.69238 \u001b[1;93mACC:\u001b[0m 52.17\n",
            "\u001b[1mVALIDATION --->\u001b[0m \u001b[1;92m[EPOCH-26]\u001b[0m \u001b[1mTIME ELAPSED:\u001b[0m 0.68s \u001b[1;91mLOSS:\u001b[0m 0.69341 \u001b[1;93mACC:\u001b[0m 50.92\n",
            "\u001b[1mTRAINING   --->\u001b[0m \u001b[1;92m[EPOCH-27]\u001b[0m \u001b[1mTIME ELAPSED:\u001b[0m 42.75s \u001b[1;91mLOSS:\u001b[0m 0.69231 \u001b[1;93mACC:\u001b[0m 52.17\n",
            "\u001b[1mVALIDATION --->\u001b[0m \u001b[1;92m[EPOCH-27]\u001b[0m \u001b[1mTIME ELAPSED:\u001b[0m 0.69s \u001b[1;91mLOSS:\u001b[0m 0.69348 \u001b[1;93mACC:\u001b[0m 50.92\n",
            "\u001b[1mTRAINING   --->\u001b[0m \u001b[1;92m[EPOCH-28]\u001b[0m \u001b[1mTIME ELAPSED:\u001b[0m 42.36s \u001b[1;91mLOSS:\u001b[0m 0.69235 \u001b[1;93mACC:\u001b[0m 52.17\n",
            "\u001b[1mVALIDATION --->\u001b[0m \u001b[1;92m[EPOCH-28]\u001b[0m \u001b[1mTIME ELAPSED:\u001b[0m 0.68s \u001b[1;91mLOSS:\u001b[0m 0.69361 \u001b[1;93mACC:\u001b[0m 50.92\n",
            "\u001b[1mTRAINING   --->\u001b[0m \u001b[1;92m[EPOCH-29]\u001b[0m \u001b[1mTIME ELAPSED:\u001b[0m 42.71s \u001b[1;91mLOSS:\u001b[0m 0.69228 \u001b[1;93mACC:\u001b[0m 52.17\n",
            "\u001b[1mVALIDATION --->\u001b[0m \u001b[1;92m[EPOCH-29]\u001b[0m \u001b[1mTIME ELAPSED:\u001b[0m 0.69s \u001b[1;91mLOSS:\u001b[0m 0.69321 \u001b[1;93mACC:\u001b[0m 50.92\n",
            "\u001b[1mTRAINING   --->\u001b[0m \u001b[1;92m[EPOCH-30]\u001b[0m \u001b[1mTIME ELAPSED:\u001b[0m 42.26s \u001b[1;91mLOSS:\u001b[0m 0.69227 \u001b[1;93mACC:\u001b[0m 52.17\n",
            "\u001b[1mVALIDATION --->\u001b[0m \u001b[1;92m[EPOCH-30]\u001b[0m \u001b[1mTIME ELAPSED:\u001b[0m 0.69s \u001b[1;91mLOSS:\u001b[0m 0.69325 \u001b[1;93mACC:\u001b[0m 50.92\n",
            "\u001b[1mTRAINING   --->\u001b[0m \u001b[1;92m[EPOCH-31]\u001b[0m \u001b[1mTIME ELAPSED:\u001b[0m 42.53s \u001b[1;91mLOSS:\u001b[0m 0.69227 \u001b[1;93mACC:\u001b[0m 52.17\n",
            "\u001b[1mVALIDATION --->\u001b[0m \u001b[1;92m[EPOCH-31]\u001b[0m \u001b[1mTIME ELAPSED:\u001b[0m 0.69s \u001b[1;91mLOSS:\u001b[0m 0.69350 \u001b[1;93mACC:\u001b[0m 50.92\n",
            "\u001b[1mTRAINING   --->\u001b[0m \u001b[1;92m[EPOCH-32]\u001b[0m \u001b[1mTIME ELAPSED:\u001b[0m 42.60s \u001b[1;91mLOSS:\u001b[0m 0.69221 \u001b[1;93mACC:\u001b[0m 52.17\n",
            "\u001b[1mVALIDATION --->\u001b[0m \u001b[1;92m[EPOCH-32]\u001b[0m \u001b[1mTIME ELAPSED:\u001b[0m 0.69s \u001b[1;91mLOSS:\u001b[0m 0.69322 \u001b[1;93mACC:\u001b[0m 50.92\n",
            "\u001b[1mTRAINING   --->\u001b[0m \u001b[1;92m[EPOCH-33]\u001b[0m \u001b[1mTIME ELAPSED:\u001b[0m 42.67s \u001b[1;91mLOSS:\u001b[0m 0.69235 \u001b[1;93mACC:\u001b[0m 52.17\n",
            "\u001b[1mVALIDATION --->\u001b[0m \u001b[1;92m[EPOCH-33]\u001b[0m \u001b[1mTIME ELAPSED:\u001b[0m 0.68s \u001b[1;91mLOSS:\u001b[0m 0.69328 \u001b[1;93mACC:\u001b[0m 50.92\n",
            "\u001b[1mTRAINING   --->\u001b[0m \u001b[1;92m[EPOCH-34]\u001b[0m \u001b[1mTIME ELAPSED:\u001b[0m 42.51s \u001b[1;91mLOSS:\u001b[0m 0.69229 \u001b[1;93mACC:\u001b[0m 52.17\n",
            "\u001b[1mVALIDATION --->\u001b[0m \u001b[1;92m[EPOCH-34]\u001b[0m \u001b[1mTIME ELAPSED:\u001b[0m 0.69s \u001b[1;91mLOSS:\u001b[0m 0.69355 \u001b[1;93mACC:\u001b[0m 50.92\n",
            "\u001b[1mTRAINING   --->\u001b[0m \u001b[1;92m[EPOCH-35]\u001b[0m \u001b[1mTIME ELAPSED:\u001b[0m 42.69s \u001b[1;91mLOSS:\u001b[0m 0.69240 \u001b[1;93mACC:\u001b[0m 52.17\n",
            "\u001b[1mVALIDATION --->\u001b[0m \u001b[1;92m[EPOCH-35]\u001b[0m \u001b[1mTIME ELAPSED:\u001b[0m 0.69s \u001b[1;91mLOSS:\u001b[0m 0.69328 \u001b[1;93mACC:\u001b[0m 50.92\n",
            "\u001b[1mTRAINING   --->\u001b[0m \u001b[1;92m[EPOCH-36]\u001b[0m \u001b[1mTIME ELAPSED:\u001b[0m 42.99s \u001b[1;91mLOSS:\u001b[0m 0.69227 \u001b[1;93mACC:\u001b[0m 52.17\n",
            "\u001b[1mVALIDATION --->\u001b[0m \u001b[1;92m[EPOCH-36]\u001b[0m \u001b[1mTIME ELAPSED:\u001b[0m 0.68s \u001b[1;91mLOSS:\u001b[0m 0.69352 \u001b[1;93mACC:\u001b[0m 50.92\n",
            "\u001b[1mTRAINING   --->\u001b[0m \u001b[1;92m[EPOCH-37]\u001b[0m \u001b[1mTIME ELAPSED:\u001b[0m 42.69s \u001b[1;91mLOSS:\u001b[0m 0.69240 \u001b[1;93mACC:\u001b[0m 52.17\n",
            "\u001b[1mVALIDATION --->\u001b[0m \u001b[1;92m[EPOCH-37]\u001b[0m \u001b[1mTIME ELAPSED:\u001b[0m 0.68s \u001b[1;91mLOSS:\u001b[0m 0.69342 \u001b[1;93mACC:\u001b[0m 50.92\n",
            "\u001b[1mTRAINING   --->\u001b[0m \u001b[1;92m[EPOCH-38]\u001b[0m \u001b[1mTIME ELAPSED:\u001b[0m 42.56s \u001b[1;91mLOSS:\u001b[0m 0.69239 \u001b[1;93mACC:\u001b[0m 52.17\n",
            "\u001b[1mVALIDATION --->\u001b[0m \u001b[1;92m[EPOCH-38]\u001b[0m \u001b[1mTIME ELAPSED:\u001b[0m 0.68s \u001b[1;91mLOSS:\u001b[0m 0.69322 \u001b[1;93mACC:\u001b[0m 50.92\n",
            "\u001b[1mTRAINING   --->\u001b[0m \u001b[1;92m[EPOCH-39]\u001b[0m \u001b[1mTIME ELAPSED:\u001b[0m 42.39s \u001b[1;91mLOSS:\u001b[0m 0.69223 \u001b[1;93mACC:\u001b[0m 52.17\n",
            "\u001b[1mVALIDATION --->\u001b[0m \u001b[1;92m[EPOCH-39]\u001b[0m \u001b[1mTIME ELAPSED:\u001b[0m 0.68s \u001b[1;91mLOSS:\u001b[0m 0.69329 \u001b[1;93mACC:\u001b[0m 50.92\n",
            "\u001b[1mTRAINING   --->\u001b[0m \u001b[1;92m[EPOCH-40]\u001b[0m \u001b[1mTIME ELAPSED:\u001b[0m 42.45s \u001b[1;91mLOSS:\u001b[0m 0.69230 \u001b[1;93mACC:\u001b[0m 52.17\n",
            "\u001b[1mVALIDATION --->\u001b[0m \u001b[1;92m[EPOCH-40]\u001b[0m \u001b[1mTIME ELAPSED:\u001b[0m 0.68s \u001b[1;91mLOSS:\u001b[0m 0.69348 \u001b[1;93mACC:\u001b[0m 50.92\n",
            "\u001b[1mTRAINING   --->\u001b[0m \u001b[1;92m[EPOCH-41]\u001b[0m \u001b[1mTIME ELAPSED:\u001b[0m 42.30s \u001b[1;91mLOSS:\u001b[0m 0.69230 \u001b[1;93mACC:\u001b[0m 52.17\n",
            "\u001b[1mVALIDATION --->\u001b[0m \u001b[1;92m[EPOCH-41]\u001b[0m \u001b[1mTIME ELAPSED:\u001b[0m 0.69s \u001b[1;91mLOSS:\u001b[0m 0.69337 \u001b[1;93mACC:\u001b[0m 50.92\n",
            "\u001b[1mTRAINING   --->\u001b[0m \u001b[1;92m[EPOCH-42]\u001b[0m \u001b[1mTIME ELAPSED:\u001b[0m 42.81s \u001b[1;91mLOSS:\u001b[0m 0.69233 \u001b[1;93mACC:\u001b[0m 52.17\n",
            "\u001b[1mVALIDATION --->\u001b[0m \u001b[1;92m[EPOCH-42]\u001b[0m \u001b[1mTIME ELAPSED:\u001b[0m 0.68s \u001b[1;91mLOSS:\u001b[0m 0.69346 \u001b[1;93mACC:\u001b[0m 50.92\n",
            "\u001b[1mTRAINING   --->\u001b[0m \u001b[1;92m[EPOCH-43]\u001b[0m \u001b[1mTIME ELAPSED:\u001b[0m 42.40s \u001b[1;91mLOSS:\u001b[0m 0.69223 \u001b[1;93mACC:\u001b[0m 52.17\n",
            "\u001b[1mVALIDATION --->\u001b[0m \u001b[1;92m[EPOCH-43]\u001b[0m \u001b[1mTIME ELAPSED:\u001b[0m 0.69s \u001b[1;91mLOSS:\u001b[0m 0.69350 \u001b[1;93mACC:\u001b[0m 50.92\n",
            "\u001b[1mTRAINING   --->\u001b[0m \u001b[1;92m[EPOCH-44]\u001b[0m \u001b[1mTIME ELAPSED:\u001b[0m 42.31s \u001b[1;91mLOSS:\u001b[0m 0.69230 \u001b[1;93mACC:\u001b[0m 52.17\n",
            "\u001b[1mVALIDATION --->\u001b[0m \u001b[1;92m[EPOCH-44]\u001b[0m \u001b[1mTIME ELAPSED:\u001b[0m 0.68s \u001b[1;91mLOSS:\u001b[0m 0.69344 \u001b[1;93mACC:\u001b[0m 50.92\n",
            "\u001b[1mTRAINING   --->\u001b[0m \u001b[1;92m[EPOCH-45]\u001b[0m \u001b[1mTIME ELAPSED:\u001b[0m 42.60s \u001b[1;91mLOSS:\u001b[0m 0.69228 \u001b[1;93mACC:\u001b[0m 52.17\n",
            "\u001b[1mVALIDATION --->\u001b[0m \u001b[1;92m[EPOCH-45]\u001b[0m \u001b[1mTIME ELAPSED:\u001b[0m 0.69s \u001b[1;91mLOSS:\u001b[0m 0.69345 \u001b[1;93mACC:\u001b[0m 50.92\n",
            "\u001b[1mTRAINING   --->\u001b[0m \u001b[1;92m[EPOCH-46]\u001b[0m \u001b[1mTIME ELAPSED:\u001b[0m 42.27s \u001b[1;91mLOSS:\u001b[0m 0.69230 \u001b[1;93mACC:\u001b[0m 52.17\n",
            "\u001b[1mVALIDATION --->\u001b[0m \u001b[1;92m[EPOCH-46]\u001b[0m \u001b[1mTIME ELAPSED:\u001b[0m 0.69s \u001b[1;91mLOSS:\u001b[0m 0.69324 \u001b[1;93mACC:\u001b[0m 50.92\n",
            "\u001b[1mTRAINING   --->\u001b[0m \u001b[1;92m[EPOCH-47]\u001b[0m \u001b[1mTIME ELAPSED:\u001b[0m 42.52s \u001b[1;91mLOSS:\u001b[0m 0.69233 \u001b[1;93mACC:\u001b[0m 52.17\n",
            "\u001b[1mVALIDATION --->\u001b[0m \u001b[1;92m[EPOCH-47]\u001b[0m \u001b[1mTIME ELAPSED:\u001b[0m 0.68s \u001b[1;91mLOSS:\u001b[0m 0.69327 \u001b[1;93mACC:\u001b[0m 50.92\n",
            "\u001b[1mTRAINING   --->\u001b[0m \u001b[1;92m[EPOCH-48]\u001b[0m \u001b[1mTIME ELAPSED:\u001b[0m 42.73s \u001b[1;91mLOSS:\u001b[0m 0.69231 \u001b[1;93mACC:\u001b[0m 52.17\n",
            "\u001b[1mVALIDATION --->\u001b[0m \u001b[1;92m[EPOCH-48]\u001b[0m \u001b[1mTIME ELAPSED:\u001b[0m 0.68s \u001b[1;91mLOSS:\u001b[0m 0.69339 \u001b[1;93mACC:\u001b[0m 50.92\n",
            "\u001b[1mTRAINING   --->\u001b[0m \u001b[1;92m[EPOCH-49]\u001b[0m \u001b[1mTIME ELAPSED:\u001b[0m 42.50s \u001b[1;91mLOSS:\u001b[0m 0.69225 \u001b[1;93mACC:\u001b[0m 52.17\n",
            "\u001b[1mVALIDATION --->\u001b[0m \u001b[1;92m[EPOCH-49]\u001b[0m \u001b[1mTIME ELAPSED:\u001b[0m 0.68s \u001b[1;91mLOSS:\u001b[0m 0.69340 \u001b[1;93mACC:\u001b[0m 50.92\n",
            "\u001b[1mTRAINING   --->\u001b[0m \u001b[1;92m[EPOCH-50]\u001b[0m \u001b[1mTIME ELAPSED:\u001b[0m 42.41s \u001b[1;91mLOSS:\u001b[0m 0.69239 \u001b[1;93mACC:\u001b[0m 52.17\n",
            "\u001b[1mVALIDATION --->\u001b[0m \u001b[1;92m[EPOCH-50]\u001b[0m \u001b[1mTIME ELAPSED:\u001b[0m 0.68s \u001b[1;91mLOSS:\u001b[0m 0.69336 \u001b[1;93mACC:\u001b[0m 50.92\n",
            "\u001b[1mVALIDATION --->\u001b[0m \u001b[1;92m[EPOCH-0]\u001b[0m \u001b[1mTIME ELAPSED:\u001b[0m 1.34s \u001b[1;91mLOSS:\u001b[0m 0.69407 \u001b[1;93mACC:\u001b[0m 49.92\n"
          ]
        }
      ],
      "source": [
        "!python main.py --data SST --emsize 300 --hidden 600 --nlayers 10 --lr 0.0003 --clip 0.25 --epochs 50 --drop 0.6 --batch_size 50 --model LSTM --bi "
      ]
    },
    {
      "cell_type": "code",
      "source": [
        "!python main.py --data SST --emsize 300 --hidden 600 --nlayers 6 --lr 0.0003 --clip 0.25 --epochs 50 --drop 0.6 --batch_size 50 --model LSTM --bi "
      ],
      "metadata": {
        "colab": {
          "base_uri": "https://localhost:8080/"
        },
        "id": "LFyaLRv0oQPO",
        "outputId": "5878cc87-5492-459d-cdc8-3b7dc828c192"
      },
      "execution_count": 20,
      "outputs": [
        {
          "output_type": "stream",
          "name": "stdout",
          "text": [
            "\u001b[1m\u001b[92m[Model Hyper-parameters]:\u001b[0m\u001b[0m Namespace(batch_size=25, bi=False, clip=0.25, cuda=True, data='SST', drop=0.6, emsize=300, epochs=50, fine=False, hidden=600, lr=0.0003, model='GRU', nlayers=2, output_path='report')\n",
            "\u001b[1m\u001b[93m[Corpus]:\u001b[0m\u001b[0m train: 6920, test: 1821, vocab: 17575, labels: 2\n",
            "Total param size: 9060902\n",
            "\u001b[1mTRAINING   --->\u001b[0m \u001b[1;92m[EPOCH-1]\u001b[0m \u001b[1mTIME ELAPSED:\u001b[0m 4.11s \u001b[1;91mLOSS:\u001b[0m 0.69371 \u001b[1;93mACC:\u001b[0m 51.79\n",
            "\u001b[1mVALIDATION --->\u001b[0m \u001b[1;92m[EPOCH-1]\u001b[0m \u001b[1mTIME ELAPSED:\u001b[0m 0.11s \u001b[1;91mLOSS:\u001b[0m 0.69502 \u001b[1;93mACC:\u001b[0m 50.92\n",
            "\u001b[1mTRAINING   --->\u001b[0m \u001b[1;92m[EPOCH-2]\u001b[0m \u001b[1mTIME ELAPSED:\u001b[0m 4.09s \u001b[1;91mLOSS:\u001b[0m 0.62600 \u001b[1;93mACC:\u001b[0m 62.82\n",
            "\u001b[1mVALIDATION --->\u001b[0m \u001b[1;92m[EPOCH-2]\u001b[0m \u001b[1mTIME ELAPSED:\u001b[0m 0.11s \u001b[1;91mLOSS:\u001b[0m 0.47657 \u001b[1;93mACC:\u001b[0m 79.24\n",
            "\u001b[1mTRAINING   --->\u001b[0m \u001b[1;92m[EPOCH-3]\u001b[0m \u001b[1mTIME ELAPSED:\u001b[0m 4.11s \u001b[1;91mLOSS:\u001b[0m 0.34013 \u001b[1;93mACC:\u001b[0m 86.47\n",
            "\u001b[1mVALIDATION --->\u001b[0m \u001b[1;92m[EPOCH-3]\u001b[0m \u001b[1mTIME ELAPSED:\u001b[0m 0.11s \u001b[1;91mLOSS:\u001b[0m 0.42682 \u001b[1;93mACC:\u001b[0m 81.08\n",
            "\u001b[1mTRAINING   --->\u001b[0m \u001b[1;92m[EPOCH-4]\u001b[0m \u001b[1mTIME ELAPSED:\u001b[0m 4.08s \u001b[1;91mLOSS:\u001b[0m 0.17670 \u001b[1;93mACC:\u001b[0m 94.45\n",
            "\u001b[1mVALIDATION --->\u001b[0m \u001b[1;92m[EPOCH-4]\u001b[0m \u001b[1mTIME ELAPSED:\u001b[0m 0.11s \u001b[1;91mLOSS:\u001b[0m 0.64501 \u001b[1;93mACC:\u001b[0m 78.44\n",
            "\u001b[1mTRAINING   --->\u001b[0m \u001b[1;92m[EPOCH-5]\u001b[0m \u001b[1mTIME ELAPSED:\u001b[0m 4.09s \u001b[1;91mLOSS:\u001b[0m 0.10876 \u001b[1;93mACC:\u001b[0m 97.15\n",
            "\u001b[1mVALIDATION --->\u001b[0m \u001b[1;92m[EPOCH-5]\u001b[0m \u001b[1mTIME ELAPSED:\u001b[0m 0.11s \u001b[1;91mLOSS:\u001b[0m 0.61217 \u001b[1;93mACC:\u001b[0m 79.47\n",
            "\u001b[1mTRAINING   --->\u001b[0m \u001b[1;92m[EPOCH-6]\u001b[0m \u001b[1mTIME ELAPSED:\u001b[0m 4.09s \u001b[1;91mLOSS:\u001b[0m 0.06348 \u001b[1;93mACC:\u001b[0m 98.48\n",
            "\u001b[1mVALIDATION --->\u001b[0m \u001b[1;92m[EPOCH-6]\u001b[0m \u001b[1mTIME ELAPSED:\u001b[0m 0.11s \u001b[1;91mLOSS:\u001b[0m 0.95131 \u001b[1;93mACC:\u001b[0m 79.24\n",
            "\u001b[1mTRAINING   --->\u001b[0m \u001b[1;92m[EPOCH-7]\u001b[0m \u001b[1mTIME ELAPSED:\u001b[0m 4.10s \u001b[1;91mLOSS:\u001b[0m 0.04731 \u001b[1;93mACC:\u001b[0m 98.97\n",
            "\u001b[1mVALIDATION --->\u001b[0m \u001b[1;92m[EPOCH-7]\u001b[0m \u001b[1mTIME ELAPSED:\u001b[0m 0.12s \u001b[1;91mLOSS:\u001b[0m 0.79227 \u001b[1;93mACC:\u001b[0m 79.70\n",
            "\u001b[1mTRAINING   --->\u001b[0m \u001b[1;92m[EPOCH-8]\u001b[0m \u001b[1mTIME ELAPSED:\u001b[0m 4.08s \u001b[1;91mLOSS:\u001b[0m 0.03204 \u001b[1;93mACC:\u001b[0m 99.31\n",
            "\u001b[1mVALIDATION --->\u001b[0m \u001b[1;92m[EPOCH-8]\u001b[0m \u001b[1mTIME ELAPSED:\u001b[0m 0.11s \u001b[1;91mLOSS:\u001b[0m 0.90866 \u001b[1;93mACC:\u001b[0m 79.59\n",
            "\u001b[1mTRAINING   --->\u001b[0m \u001b[1;92m[EPOCH-9]\u001b[0m \u001b[1mTIME ELAPSED:\u001b[0m 4.08s \u001b[1;91mLOSS:\u001b[0m 0.01767 \u001b[1;93mACC:\u001b[0m 99.67\n",
            "\u001b[1mVALIDATION --->\u001b[0m \u001b[1;92m[EPOCH-9]\u001b[0m \u001b[1mTIME ELAPSED:\u001b[0m 0.11s \u001b[1;91mLOSS:\u001b[0m 1.16604 \u001b[1;93mACC:\u001b[0m 79.13\n",
            "\u001b[1mTRAINING   --->\u001b[0m \u001b[1;92m[EPOCH-10]\u001b[0m \u001b[1mTIME ELAPSED:\u001b[0m 4.08s \u001b[1;91mLOSS:\u001b[0m 0.01233 \u001b[1;93mACC:\u001b[0m 99.77\n",
            "\u001b[1mVALIDATION --->\u001b[0m \u001b[1;92m[EPOCH-10]\u001b[0m \u001b[1mTIME ELAPSED:\u001b[0m 0.11s \u001b[1;91mLOSS:\u001b[0m 1.32215 \u001b[1;93mACC:\u001b[0m 79.70\n",
            "\u001b[1mTRAINING   --->\u001b[0m \u001b[1;92m[EPOCH-11]\u001b[0m \u001b[1mTIME ELAPSED:\u001b[0m 4.11s \u001b[1;91mLOSS:\u001b[0m 0.00769 \u001b[1;93mACC:\u001b[0m 99.84\n",
            "\u001b[1mVALIDATION --->\u001b[0m \u001b[1;92m[EPOCH-11]\u001b[0m \u001b[1mTIME ELAPSED:\u001b[0m 0.11s \u001b[1;91mLOSS:\u001b[0m 1.28692 \u001b[1;93mACC:\u001b[0m 78.78\n",
            "\u001b[1mTRAINING   --->\u001b[0m \u001b[1;92m[EPOCH-12]\u001b[0m \u001b[1mTIME ELAPSED:\u001b[0m 4.08s \u001b[1;91mLOSS:\u001b[0m 0.00511 \u001b[1;93mACC:\u001b[0m 99.90\n",
            "\u001b[1mVALIDATION --->\u001b[0m \u001b[1;92m[EPOCH-12]\u001b[0m \u001b[1mTIME ELAPSED:\u001b[0m 0.11s \u001b[1;91mLOSS:\u001b[0m 1.41440 \u001b[1;93mACC:\u001b[0m 79.01\n",
            "\u001b[1mTRAINING   --->\u001b[0m \u001b[1;92m[EPOCH-13]\u001b[0m \u001b[1mTIME ELAPSED:\u001b[0m 4.10s \u001b[1;91mLOSS:\u001b[0m 0.00389 \u001b[1;93mACC:\u001b[0m 99.91\n",
            "\u001b[1mVALIDATION --->\u001b[0m \u001b[1;92m[EPOCH-13]\u001b[0m \u001b[1mTIME ELAPSED:\u001b[0m 0.11s \u001b[1;91mLOSS:\u001b[0m 1.49175 \u001b[1;93mACC:\u001b[0m 78.56\n",
            "\u001b[1mTRAINING   --->\u001b[0m \u001b[1;92m[EPOCH-14]\u001b[0m \u001b[1mTIME ELAPSED:\u001b[0m 4.07s \u001b[1;91mLOSS:\u001b[0m 0.00001 \u001b[1;93mACC:\u001b[0m 100.00\n",
            "\u001b[1mVALIDATION --->\u001b[0m \u001b[1;92m[EPOCH-14]\u001b[0m \u001b[1mTIME ELAPSED:\u001b[0m 0.11s \u001b[1;91mLOSS:\u001b[0m 1.55025 \u001b[1;93mACC:\u001b[0m 78.44\n",
            "\u001b[1mTRAINING   --->\u001b[0m \u001b[1;92m[EPOCH-15]\u001b[0m \u001b[1mTIME ELAPSED:\u001b[0m 4.09s \u001b[1;91mLOSS:\u001b[0m 0.00001 \u001b[1;93mACC:\u001b[0m 100.00\n",
            "\u001b[1mVALIDATION --->\u001b[0m \u001b[1;92m[EPOCH-15]\u001b[0m \u001b[1mTIME ELAPSED:\u001b[0m 0.11s \u001b[1;91mLOSS:\u001b[0m 1.59558 \u001b[1;93mACC:\u001b[0m 78.21\n",
            "\u001b[1mTRAINING   --->\u001b[0m \u001b[1;92m[EPOCH-16]\u001b[0m \u001b[1mTIME ELAPSED:\u001b[0m 4.10s \u001b[1;91mLOSS:\u001b[0m 0.00001 \u001b[1;93mACC:\u001b[0m 100.00\n",
            "\u001b[1mVALIDATION --->\u001b[0m \u001b[1;92m[EPOCH-16]\u001b[0m \u001b[1mTIME ELAPSED:\u001b[0m 0.11s \u001b[1;91mLOSS:\u001b[0m 1.62753 \u001b[1;93mACC:\u001b[0m 78.44\n",
            "\u001b[1mTRAINING   --->\u001b[0m \u001b[1;92m[EPOCH-17]\u001b[0m \u001b[1mTIME ELAPSED:\u001b[0m 4.10s \u001b[1;91mLOSS:\u001b[0m 0.00000 \u001b[1;93mACC:\u001b[0m 100.00\n",
            "\u001b[1mVALIDATION --->\u001b[0m \u001b[1;92m[EPOCH-17]\u001b[0m \u001b[1mTIME ELAPSED:\u001b[0m 0.11s \u001b[1;91mLOSS:\u001b[0m 1.65274 \u001b[1;93mACC:\u001b[0m 78.21\n",
            "\u001b[1mTRAINING   --->\u001b[0m \u001b[1;92m[EPOCH-18]\u001b[0m \u001b[1mTIME ELAPSED:\u001b[0m 4.10s \u001b[1;91mLOSS:\u001b[0m 0.00000 \u001b[1;93mACC:\u001b[0m 100.00\n",
            "\u001b[1mVALIDATION --->\u001b[0m \u001b[1;92m[EPOCH-18]\u001b[0m \u001b[1mTIME ELAPSED:\u001b[0m 0.10s \u001b[1;91mLOSS:\u001b[0m 1.67436 \u001b[1;93mACC:\u001b[0m 78.21\n",
            "\u001b[1mTRAINING   --->\u001b[0m \u001b[1;92m[EPOCH-19]\u001b[0m \u001b[1mTIME ELAPSED:\u001b[0m 4.10s \u001b[1;91mLOSS:\u001b[0m 0.00000 \u001b[1;93mACC:\u001b[0m 100.00\n",
            "\u001b[1mVALIDATION --->\u001b[0m \u001b[1;92m[EPOCH-19]\u001b[0m \u001b[1mTIME ELAPSED:\u001b[0m 0.11s \u001b[1;91mLOSS:\u001b[0m 1.68642 \u001b[1;93mACC:\u001b[0m 78.44\n",
            "\u001b[1mTRAINING   --->\u001b[0m \u001b[1;92m[EPOCH-20]\u001b[0m \u001b[1mTIME ELAPSED:\u001b[0m 4.09s \u001b[1;91mLOSS:\u001b[0m 0.00000 \u001b[1;93mACC:\u001b[0m 100.00\n",
            "\u001b[1mVALIDATION --->\u001b[0m \u001b[1;92m[EPOCH-20]\u001b[0m \u001b[1mTIME ELAPSED:\u001b[0m 0.11s \u001b[1;91mLOSS:\u001b[0m 1.70180 \u001b[1;93mACC:\u001b[0m 78.44\n",
            "\u001b[1mTRAINING   --->\u001b[0m \u001b[1;92m[EPOCH-21]\u001b[0m \u001b[1mTIME ELAPSED:\u001b[0m 4.06s \u001b[1;91mLOSS:\u001b[0m 0.00000 \u001b[1;93mACC:\u001b[0m 100.00\n",
            "\u001b[1mVALIDATION --->\u001b[0m \u001b[1;92m[EPOCH-21]\u001b[0m \u001b[1mTIME ELAPSED:\u001b[0m 0.11s \u001b[1;91mLOSS:\u001b[0m 1.71644 \u001b[1;93mACC:\u001b[0m 78.44\n",
            "\u001b[1mTRAINING   --->\u001b[0m \u001b[1;92m[EPOCH-22]\u001b[0m \u001b[1mTIME ELAPSED:\u001b[0m 4.10s \u001b[1;91mLOSS:\u001b[0m 0.00000 \u001b[1;93mACC:\u001b[0m 100.00\n",
            "\u001b[1mVALIDATION --->\u001b[0m \u001b[1;92m[EPOCH-22]\u001b[0m \u001b[1mTIME ELAPSED:\u001b[0m 0.11s \u001b[1;91mLOSS:\u001b[0m 1.72946 \u001b[1;93mACC:\u001b[0m 78.56\n",
            "\u001b[1mTRAINING   --->\u001b[0m \u001b[1;92m[EPOCH-23]\u001b[0m \u001b[1mTIME ELAPSED:\u001b[0m 4.10s \u001b[1;91mLOSS:\u001b[0m 0.00000 \u001b[1;93mACC:\u001b[0m 100.00\n",
            "\u001b[1mVALIDATION --->\u001b[0m \u001b[1;92m[EPOCH-23]\u001b[0m \u001b[1mTIME ELAPSED:\u001b[0m 0.11s \u001b[1;91mLOSS:\u001b[0m 1.74109 \u001b[1;93mACC:\u001b[0m 78.67\n",
            "\u001b[1mTRAINING   --->\u001b[0m \u001b[1;92m[EPOCH-24]\u001b[0m \u001b[1mTIME ELAPSED:\u001b[0m 4.09s \u001b[1;91mLOSS:\u001b[0m 0.00000 \u001b[1;93mACC:\u001b[0m 100.00\n",
            "\u001b[1mVALIDATION --->\u001b[0m \u001b[1;92m[EPOCH-24]\u001b[0m \u001b[1mTIME ELAPSED:\u001b[0m 0.11s \u001b[1;91mLOSS:\u001b[0m 1.73313 \u001b[1;93mACC:\u001b[0m 78.90\n",
            "\u001b[1mTRAINING   --->\u001b[0m \u001b[1;92m[EPOCH-25]\u001b[0m \u001b[1mTIME ELAPSED:\u001b[0m 4.07s \u001b[1;91mLOSS:\u001b[0m 0.00000 \u001b[1;93mACC:\u001b[0m 100.00\n",
            "\u001b[1mVALIDATION --->\u001b[0m \u001b[1;92m[EPOCH-25]\u001b[0m \u001b[1mTIME ELAPSED:\u001b[0m 0.11s \u001b[1;91mLOSS:\u001b[0m 1.74748 \u001b[1;93mACC:\u001b[0m 78.90\n",
            "\u001b[1mTRAINING   --->\u001b[0m \u001b[1;92m[EPOCH-26]\u001b[0m \u001b[1mTIME ELAPSED:\u001b[0m 4.09s \u001b[1;91mLOSS:\u001b[0m 0.00000 \u001b[1;93mACC:\u001b[0m 100.00\n",
            "\u001b[1mVALIDATION --->\u001b[0m \u001b[1;92m[EPOCH-26]\u001b[0m \u001b[1mTIME ELAPSED:\u001b[0m 0.11s \u001b[1;91mLOSS:\u001b[0m 1.75693 \u001b[1;93mACC:\u001b[0m 78.90\n",
            "\u001b[1mTRAINING   --->\u001b[0m \u001b[1;92m[EPOCH-27]\u001b[0m \u001b[1mTIME ELAPSED:\u001b[0m 4.10s \u001b[1;91mLOSS:\u001b[0m 0.00000 \u001b[1;93mACC:\u001b[0m 100.00\n",
            "\u001b[1mVALIDATION --->\u001b[0m \u001b[1;92m[EPOCH-27]\u001b[0m \u001b[1mTIME ELAPSED:\u001b[0m 0.11s \u001b[1;91mLOSS:\u001b[0m 1.77093 \u001b[1;93mACC:\u001b[0m 79.01\n",
            "\u001b[1mTRAINING   --->\u001b[0m \u001b[1;92m[EPOCH-28]\u001b[0m \u001b[1mTIME ELAPSED:\u001b[0m 4.07s \u001b[1;91mLOSS:\u001b[0m 0.00000 \u001b[1;93mACC:\u001b[0m 100.00\n",
            "\u001b[1mVALIDATION --->\u001b[0m \u001b[1;92m[EPOCH-28]\u001b[0m \u001b[1mTIME ELAPSED:\u001b[0m 0.11s \u001b[1;91mLOSS:\u001b[0m 1.78340 \u001b[1;93mACC:\u001b[0m 79.01\n",
            "\u001b[1mTRAINING   --->\u001b[0m \u001b[1;92m[EPOCH-29]\u001b[0m \u001b[1mTIME ELAPSED:\u001b[0m 4.08s \u001b[1;91mLOSS:\u001b[0m 0.00000 \u001b[1;93mACC:\u001b[0m 100.00\n",
            "\u001b[1mVALIDATION --->\u001b[0m \u001b[1;92m[EPOCH-29]\u001b[0m \u001b[1mTIME ELAPSED:\u001b[0m 0.11s \u001b[1;91mLOSS:\u001b[0m 1.79426 \u001b[1;93mACC:\u001b[0m 78.90\n",
            "\u001b[1mTRAINING   --->\u001b[0m \u001b[1;92m[EPOCH-30]\u001b[0m \u001b[1mTIME ELAPSED:\u001b[0m 4.08s \u001b[1;91mLOSS:\u001b[0m 0.00000 \u001b[1;93mACC:\u001b[0m 100.00\n",
            "\u001b[1mVALIDATION --->\u001b[0m \u001b[1;92m[EPOCH-30]\u001b[0m \u001b[1mTIME ELAPSED:\u001b[0m 0.11s \u001b[1;91mLOSS:\u001b[0m 1.80478 \u001b[1;93mACC:\u001b[0m 78.90\n",
            "\u001b[1mTRAINING   --->\u001b[0m \u001b[1;92m[EPOCH-31]\u001b[0m \u001b[1mTIME ELAPSED:\u001b[0m 4.10s \u001b[1;91mLOSS:\u001b[0m 0.00000 \u001b[1;93mACC:\u001b[0m 100.00\n",
            "\u001b[1mVALIDATION --->\u001b[0m \u001b[1;92m[EPOCH-31]\u001b[0m \u001b[1mTIME ELAPSED:\u001b[0m 0.11s \u001b[1;91mLOSS:\u001b[0m 1.81468 \u001b[1;93mACC:\u001b[0m 78.90\n",
            "\u001b[1mTRAINING   --->\u001b[0m \u001b[1;92m[EPOCH-32]\u001b[0m \u001b[1mTIME ELAPSED:\u001b[0m 4.11s \u001b[1;91mLOSS:\u001b[0m 0.00000 \u001b[1;93mACC:\u001b[0m 100.00\n",
            "\u001b[1mVALIDATION --->\u001b[0m \u001b[1;92m[EPOCH-32]\u001b[0m \u001b[1mTIME ELAPSED:\u001b[0m 0.11s \u001b[1;91mLOSS:\u001b[0m 1.82343 \u001b[1;93mACC:\u001b[0m 78.90\n",
            "\u001b[1mTRAINING   --->\u001b[0m \u001b[1;92m[EPOCH-33]\u001b[0m \u001b[1mTIME ELAPSED:\u001b[0m 4.08s \u001b[1;91mLOSS:\u001b[0m 0.00000 \u001b[1;93mACC:\u001b[0m 100.00\n",
            "\u001b[1mVALIDATION --->\u001b[0m \u001b[1;92m[EPOCH-33]\u001b[0m \u001b[1mTIME ELAPSED:\u001b[0m 0.11s \u001b[1;91mLOSS:\u001b[0m 1.83192 \u001b[1;93mACC:\u001b[0m 78.90\n",
            "\u001b[1mTRAINING   --->\u001b[0m \u001b[1;92m[EPOCH-34]\u001b[0m \u001b[1mTIME ELAPSED:\u001b[0m 4.08s \u001b[1;91mLOSS:\u001b[0m 0.00000 \u001b[1;93mACC:\u001b[0m 100.00\n",
            "\u001b[1mVALIDATION --->\u001b[0m \u001b[1;92m[EPOCH-34]\u001b[0m \u001b[1mTIME ELAPSED:\u001b[0m 0.11s \u001b[1;91mLOSS:\u001b[0m 1.84045 \u001b[1;93mACC:\u001b[0m 78.78\n",
            "\u001b[1mTRAINING   --->\u001b[0m \u001b[1;92m[EPOCH-35]\u001b[0m \u001b[1mTIME ELAPSED:\u001b[0m 4.08s \u001b[1;91mLOSS:\u001b[0m 0.00000 \u001b[1;93mACC:\u001b[0m 100.00\n",
            "\u001b[1mVALIDATION --->\u001b[0m \u001b[1;92m[EPOCH-35]\u001b[0m \u001b[1mTIME ELAPSED:\u001b[0m 0.11s \u001b[1;91mLOSS:\u001b[0m 1.84858 \u001b[1;93mACC:\u001b[0m 78.78\n",
            "\u001b[1mTRAINING   --->\u001b[0m \u001b[1;92m[EPOCH-36]\u001b[0m \u001b[1mTIME ELAPSED:\u001b[0m 4.07s \u001b[1;91mLOSS:\u001b[0m 0.00000 \u001b[1;93mACC:\u001b[0m 100.00\n",
            "\u001b[1mVALIDATION --->\u001b[0m \u001b[1;92m[EPOCH-36]\u001b[0m \u001b[1mTIME ELAPSED:\u001b[0m 0.11s \u001b[1;91mLOSS:\u001b[0m 1.85586 \u001b[1;93mACC:\u001b[0m 78.78\n",
            "\u001b[1mTRAINING   --->\u001b[0m \u001b[1;92m[EPOCH-37]\u001b[0m \u001b[1mTIME ELAPSED:\u001b[0m 4.08s \u001b[1;91mLOSS:\u001b[0m 0.00000 \u001b[1;93mACC:\u001b[0m 100.00\n",
            "\u001b[1mVALIDATION --->\u001b[0m \u001b[1;92m[EPOCH-37]\u001b[0m \u001b[1mTIME ELAPSED:\u001b[0m 0.11s \u001b[1;91mLOSS:\u001b[0m 1.86240 \u001b[1;93mACC:\u001b[0m 78.78\n",
            "\u001b[1mTRAINING   --->\u001b[0m \u001b[1;92m[EPOCH-38]\u001b[0m \u001b[1mTIME ELAPSED:\u001b[0m 4.09s \u001b[1;91mLOSS:\u001b[0m 0.00000 \u001b[1;93mACC:\u001b[0m 100.00\n",
            "\u001b[1mVALIDATION --->\u001b[0m \u001b[1;92m[EPOCH-38]\u001b[0m \u001b[1mTIME ELAPSED:\u001b[0m 0.11s \u001b[1;91mLOSS:\u001b[0m 1.86902 \u001b[1;93mACC:\u001b[0m 78.78\n",
            "\u001b[1mTRAINING   --->\u001b[0m \u001b[1;92m[EPOCH-39]\u001b[0m \u001b[1mTIME ELAPSED:\u001b[0m 4.10s \u001b[1;91mLOSS:\u001b[0m 0.00000 \u001b[1;93mACC:\u001b[0m 100.00\n",
            "\u001b[1mVALIDATION --->\u001b[0m \u001b[1;92m[EPOCH-39]\u001b[0m \u001b[1mTIME ELAPSED:\u001b[0m 0.11s \u001b[1;91mLOSS:\u001b[0m 1.87531 \u001b[1;93mACC:\u001b[0m 78.78\n",
            "\u001b[1mTRAINING   --->\u001b[0m \u001b[1;92m[EPOCH-40]\u001b[0m \u001b[1mTIME ELAPSED:\u001b[0m 4.11s \u001b[1;91mLOSS:\u001b[0m 0.00000 \u001b[1;93mACC:\u001b[0m 100.00\n",
            "\u001b[1mVALIDATION --->\u001b[0m \u001b[1;92m[EPOCH-40]\u001b[0m \u001b[1mTIME ELAPSED:\u001b[0m 0.11s \u001b[1;91mLOSS:\u001b[0m 1.88172 \u001b[1;93mACC:\u001b[0m 78.78\n",
            "\u001b[1mTRAINING   --->\u001b[0m \u001b[1;92m[EPOCH-41]\u001b[0m \u001b[1mTIME ELAPSED:\u001b[0m 4.09s \u001b[1;91mLOSS:\u001b[0m 0.00000 \u001b[1;93mACC:\u001b[0m 100.00\n",
            "\u001b[1mVALIDATION --->\u001b[0m \u001b[1;92m[EPOCH-41]\u001b[0m \u001b[1mTIME ELAPSED:\u001b[0m 0.11s \u001b[1;91mLOSS:\u001b[0m 1.88750 \u001b[1;93mACC:\u001b[0m 78.78\n",
            "\u001b[1mTRAINING   --->\u001b[0m \u001b[1;92m[EPOCH-42]\u001b[0m \u001b[1mTIME ELAPSED:\u001b[0m 4.09s \u001b[1;91mLOSS:\u001b[0m 0.00000 \u001b[1;93mACC:\u001b[0m 100.00\n",
            "\u001b[1mVALIDATION --->\u001b[0m \u001b[1;92m[EPOCH-42]\u001b[0m \u001b[1mTIME ELAPSED:\u001b[0m 0.11s \u001b[1;91mLOSS:\u001b[0m 1.89362 \u001b[1;93mACC:\u001b[0m 78.78\n",
            "\u001b[1mTRAINING   --->\u001b[0m \u001b[1;92m[EPOCH-43]\u001b[0m \u001b[1mTIME ELAPSED:\u001b[0m 4.08s \u001b[1;91mLOSS:\u001b[0m 0.00000 \u001b[1;93mACC:\u001b[0m 100.00\n",
            "\u001b[1mVALIDATION --->\u001b[0m \u001b[1;92m[EPOCH-43]\u001b[0m \u001b[1mTIME ELAPSED:\u001b[0m 0.11s \u001b[1;91mLOSS:\u001b[0m 1.89139 \u001b[1;93mACC:\u001b[0m 78.90\n",
            "\u001b[1mTRAINING   --->\u001b[0m \u001b[1;92m[EPOCH-44]\u001b[0m \u001b[1mTIME ELAPSED:\u001b[0m 4.07s \u001b[1;91mLOSS:\u001b[0m 0.00000 \u001b[1;93mACC:\u001b[0m 100.00\n",
            "\u001b[1mVALIDATION --->\u001b[0m \u001b[1;92m[EPOCH-44]\u001b[0m \u001b[1mTIME ELAPSED:\u001b[0m 0.11s \u001b[1;91mLOSS:\u001b[0m 1.89689 \u001b[1;93mACC:\u001b[0m 79.01\n",
            "\u001b[1mTRAINING   --->\u001b[0m \u001b[1;92m[EPOCH-45]\u001b[0m \u001b[1mTIME ELAPSED:\u001b[0m 4.10s \u001b[1;91mLOSS:\u001b[0m 0.00000 \u001b[1;93mACC:\u001b[0m 100.00\n",
            "\u001b[1mVALIDATION --->\u001b[0m \u001b[1;92m[EPOCH-45]\u001b[0m \u001b[1mTIME ELAPSED:\u001b[0m 0.11s \u001b[1;91mLOSS:\u001b[0m 1.90156 \u001b[1;93mACC:\u001b[0m 79.01\n",
            "\u001b[1mTRAINING   --->\u001b[0m \u001b[1;92m[EPOCH-46]\u001b[0m \u001b[1mTIME ELAPSED:\u001b[0m 4.13s \u001b[1;91mLOSS:\u001b[0m 0.00000 \u001b[1;93mACC:\u001b[0m 100.00\n",
            "\u001b[1mVALIDATION --->\u001b[0m \u001b[1;92m[EPOCH-46]\u001b[0m \u001b[1mTIME ELAPSED:\u001b[0m 0.11s \u001b[1;91mLOSS:\u001b[0m 1.90612 \u001b[1;93mACC:\u001b[0m 79.01\n",
            "\u001b[1mTRAINING   --->\u001b[0m \u001b[1;92m[EPOCH-47]\u001b[0m \u001b[1mTIME ELAPSED:\u001b[0m 4.07s \u001b[1;91mLOSS:\u001b[0m 0.00000 \u001b[1;93mACC:\u001b[0m 100.00\n",
            "\u001b[1mVALIDATION --->\u001b[0m \u001b[1;92m[EPOCH-47]\u001b[0m \u001b[1mTIME ELAPSED:\u001b[0m 0.11s \u001b[1;91mLOSS:\u001b[0m 1.91101 \u001b[1;93mACC:\u001b[0m 79.13\n",
            "\u001b[1mTRAINING   --->\u001b[0m \u001b[1;92m[EPOCH-48]\u001b[0m \u001b[1mTIME ELAPSED:\u001b[0m 4.13s \u001b[1;91mLOSS:\u001b[0m 0.00000 \u001b[1;93mACC:\u001b[0m 100.00\n",
            "\u001b[1mVALIDATION --->\u001b[0m \u001b[1;92m[EPOCH-48]\u001b[0m \u001b[1mTIME ELAPSED:\u001b[0m 0.11s \u001b[1;91mLOSS:\u001b[0m 1.91545 \u001b[1;93mACC:\u001b[0m 79.13\n",
            "\u001b[1mTRAINING   --->\u001b[0m \u001b[1;92m[EPOCH-49]\u001b[0m \u001b[1mTIME ELAPSED:\u001b[0m 4.09s \u001b[1;91mLOSS:\u001b[0m 0.00002 \u001b[1;93mACC:\u001b[0m 100.00\n",
            "\u001b[1mVALIDATION --->\u001b[0m \u001b[1;92m[EPOCH-49]\u001b[0m \u001b[1mTIME ELAPSED:\u001b[0m 0.11s \u001b[1;91mLOSS:\u001b[0m 1.81996 \u001b[1;93mACC:\u001b[0m 79.93\n",
            "\u001b[1mTRAINING   --->\u001b[0m \u001b[1;92m[EPOCH-50]\u001b[0m \u001b[1mTIME ELAPSED:\u001b[0m 4.11s \u001b[1;91mLOSS:\u001b[0m 0.00000 \u001b[1;93mACC:\u001b[0m 100.00\n",
            "\u001b[1mVALIDATION --->\u001b[0m \u001b[1;92m[EPOCH-50]\u001b[0m \u001b[1mTIME ELAPSED:\u001b[0m 0.11s \u001b[1;91mLOSS:\u001b[0m 1.75735 \u001b[1;93mACC:\u001b[0m 79.36\n",
            "\u001b[1mVALIDATION --->\u001b[0m \u001b[1;92m[EPOCH-0]\u001b[0m \u001b[1mTIME ELAPSED:\u001b[0m 0.21s \u001b[1;91mLOSS:\u001b[0m 1.65188 \u001b[1;93mACC:\u001b[0m 78.91\n"
          ]
        }
      ]
    },
    {
      "cell_type": "code",
      "source": [
        "rm -rf report"
      ],
      "metadata": {
        "id": "gb86H-YvtWK3"
      },
      "execution_count": 8,
      "outputs": []
    },
    {
      "cell_type": "code",
      "source": [
        ""
      ],
      "metadata": {
        "id": "VZnxCeOatb6F"
      },
      "execution_count": null,
      "outputs": []
    }
  ],
  "metadata": {
    "accelerator": "GPU",
    "colab": {
      "name": "comp550finalproj.ipynb",
      "provenance": [],
      "collapsed_sections": []
    },
    "kernelspec": {
      "display_name": "Python 3",
      "name": "python3"
    },
    "language_info": {
      "name": "python"
    }
  },
  "nbformat": 4,
  "nbformat_minor": 0
}